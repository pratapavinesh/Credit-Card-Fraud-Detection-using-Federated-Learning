{
  "nbformat": 4,
  "nbformat_minor": 0,
  "metadata": {
    "colab": {
      "provenance": []
    },
    "kernelspec": {
      "name": "python3",
      "display_name": "Python 3"
    },
    "language_info": {
      "name": "python"
    }
  },
  "cells": [
    {
      "cell_type": "code",
      "execution_count": null,
      "metadata": {
        "id": "EM3pdbddXS-9"
      },
      "outputs": [],
      "source": [
        "import pandas as pd\n",
        "file_path = '/content/drive/MyDrive/data_merged (1).xlsx'\n",
        "df = pd.read_excel(file_path, sheet_name=None)\n",
        "df = pd.concat(df.values(), ignore_index=True)"
      ]
    },
    {
      "cell_type": "code",
      "source": [
        "df['TX_DATETIME'] = pd.to_datetime(df['TX_DATETIME'])\n",
        "df['TX_DATETIME'] = df['TX_DATETIME'].astype(int) // 10**9  # Convert to seconds since epoch\n",
        "\n",
        "df['TX_TIME_SECONDS'] = df['TX_TIME_SECONDS'].astype(int)\n",
        "df['TX_TIME_DAYS'] = df['TX_TIME_DAYS'].astype(int)\n"
      ],
      "metadata": {
        "id": "y-5u1QAmXbY7"
      },
      "execution_count": null,
      "outputs": []
    },
    {
      "cell_type": "code",
      "source": [
        "from imblearn.over_sampling import SMOTE\n",
        "\n",
        "X = df.drop(['TX_FRAUD', 'TX_FRAUD_SCENARIO', 'TRANSACTION_ID'], axis=1)\n",
        "y = df['TX_FRAUD']\n",
        "\n",
        "smote = SMOTE(random_state=42)\n",
        "X_resampled, y_resampled = smote.fit_resample(X, y)\n",
        "\n",
        "print(f\"Number of rows with TX_FRAUD = 0 after SMOTE: {sum(y_resampled == 0)}\")\n",
        "print(f\"Number of rows with TX_FRAUD = 1 after SMOTE: {sum(y_resampled == 1)}\")"
      ],
      "metadata": {
        "colab": {
          "base_uri": "https://localhost:8080/"
        },
        "id": "BVXKn_d8Xdnw",
        "outputId": "74121de4-2895-4d47-f4c5-b5b4cf864860"
      },
      "execution_count": null,
      "outputs": [
        {
          "output_type": "stream",
          "name": "stdout",
          "text": [
            "Number of rows with TX_FRAUD = 0 after SMOTE: 1739474\n",
            "Number of rows with TX_FRAUD = 1 after SMOTE: 1739474\n"
          ]
        }
      ]
    },
    {
      "cell_type": "code",
      "source": [
        "X_resampled.reset_index(drop=True, inplace=True)\n",
        "y_resampled.reset_index(drop=True, inplace=True)\n",
        "\n",
        "# Combine X and y into a single dataframe\n",
        "df = pd.concat([X_resampled, y_resampled], axis=1)\n",
        "\n",
        "# Print the first few rows of df to verify\n",
        "print(df.tail())\n",
        "\n",
        "\n",
        "# Count the number of rows where TX_FRAUD is 0 or 1\n",
        "fraud_counts = df['TX_FRAUD'].value_counts()\n",
        "\n",
        "# Print the counts\n",
        "print(f\"Number of rows with TX_FRAUD = 0: {fraud_counts.get(0, 0)}\")\n",
        "print(f\"Number of rows with TX_FRAUD = 1: {fraud_counts.get(1, 0)}\")"
      ],
      "metadata": {
        "colab": {
          "base_uri": "https://localhost:8080/"
        },
        "id": "obaNspyeXfhv",
        "outputId": "5897413b-d115-4551-fce5-6c4783584e5d"
      },
      "execution_count": null,
      "outputs": [
        {
          "output_type": "stream",
          "name": "stdout",
          "text": [
            "         TX_DATETIME  CUSTOMER_ID  TERMINAL_ID   TX_AMOUNT  TX_TIME_SECONDS  \\\n",
            "3478943   1525210530         1573         5168   39.396296          2669730   \n",
            "3478944   1534502297         1898          883  197.037316         11961497   \n",
            "3478945   1523369066         4411         5177   24.633753           828266   \n",
            "3478946   1525007236         1182         6548  361.344759          2466436   \n",
            "3478947   1531669640         1937         4123   84.714086          9128840   \n",
            "\n",
            "         TX_TIME_DAYS  TX_FRAUD  \n",
            "3478943            30         1  \n",
            "3478944           138         1  \n",
            "3478945             9         1  \n",
            "3478946            28         1  \n",
            "3478947           105         1  \n",
            "Number of rows with TX_FRAUD = 0: 1739474\n",
            "Number of rows with TX_FRAUD = 1: 1739474\n"
          ]
        }
      ]
    },
    {
      "cell_type": "code",
      "source": [
        "import numpy as np\n"
      ],
      "metadata": {
        "id": "eF9BDoCY9-18"
      },
      "execution_count": null,
      "outputs": []
    },
    {
      "cell_type": "code",
      "source": [
        "df['BANK_ID'] = np.random.choice(np.arange(1, 101), size=len(df))"
      ],
      "metadata": {
        "id": "Su_mzvM5GccG"
      },
      "execution_count": null,
      "outputs": []
    },
    {
      "cell_type": "code",
      "source": [
        "print(df.tail())"
      ],
      "metadata": {
        "colab": {
          "base_uri": "https://localhost:8080/"
        },
        "id": "DZMhoteyGw4y",
        "outputId": "6db98579-25c5-472f-969e-2f9074422516"
      },
      "execution_count": null,
      "outputs": [
        {
          "output_type": "stream",
          "name": "stdout",
          "text": [
            "         TX_DATETIME  CUSTOMER_ID  TERMINAL_ID   TX_AMOUNT  TX_TIME_SECONDS  \\\n",
            "3478943   1525210530         1573         5168   39.396296          2669730   \n",
            "3478944   1534502297         1898          883  197.037316         11961497   \n",
            "3478945   1523369066         4411         5177   24.633753           828266   \n",
            "3478946   1525007236         1182         6548  361.344759          2466436   \n",
            "3478947   1531669640         1937         4123   84.714086          9128840   \n",
            "\n",
            "         TX_TIME_DAYS  TX_FRAUD  BANK_ID  \n",
            "3478943            30         1        4  \n",
            "3478944           138         1       51  \n",
            "3478945             9         1       39  \n",
            "3478946            28         1        3  \n",
            "3478947           105         1       95  \n"
          ]
        }
      ]
    },
    {
      "cell_type": "code",
      "source": [
        "edge_ids = {}\n",
        "\n",
        "for bank_id in range(1, 101):\n",
        "    edge_ids[bank_id] = np.random.randint(1, 6)\n",
        "\n",
        "print(edge_ids)"
      ],
      "metadata": {
        "colab": {
          "base_uri": "https://localhost:8080/"
        },
        "id": "E1iwt06uHDVs",
        "outputId": "1c990744-8478-4c8e-9389-cd6f5266b5cb"
      },
      "execution_count": null,
      "outputs": [
        {
          "output_type": "stream",
          "name": "stdout",
          "text": [
            "{1: 5, 2: 4, 3: 1, 4: 2, 5: 1, 6: 2, 7: 1, 8: 5, 9: 2, 10: 5, 11: 4, 12: 1, 13: 1, 14: 1, 15: 5, 16: 1, 17: 3, 18: 4, 19: 1, 20: 4, 21: 1, 22: 4, 23: 5, 24: 2, 25: 2, 26: 4, 27: 4, 28: 4, 29: 1, 30: 2, 31: 3, 32: 3, 33: 3, 34: 2, 35: 5, 36: 5, 37: 1, 38: 3, 39: 3, 40: 4, 41: 2, 42: 4, 43: 2, 44: 1, 45: 5, 46: 1, 47: 3, 48: 4, 49: 2, 50: 4, 51: 2, 52: 3, 53: 4, 54: 1, 55: 2, 56: 4, 57: 1, 58: 2, 59: 5, 60: 2, 61: 5, 62: 5, 63: 2, 64: 3, 65: 4, 66: 5, 67: 3, 68: 5, 69: 3, 70: 2, 71: 3, 72: 5, 73: 5, 74: 5, 75: 5, 76: 5, 77: 2, 78: 2, 79: 3, 80: 3, 81: 3, 82: 2, 83: 2, 84: 3, 85: 2, 86: 4, 87: 4, 88: 2, 89: 4, 90: 5, 91: 5, 92: 2, 93: 1, 94: 2, 95: 4, 96: 5, 97: 5, 98: 4, 99: 4, 100: 2}\n"
          ]
        }
      ]
    },
    {
      "cell_type": "code",
      "source": [
        "from collections import defaultdict\n",
        "\n",
        "value_map = defaultdict(list)\n",
        "\n",
        "for key, value in edge_ids.items():\n",
        "    value_map[value].append(key)\n",
        "\n",
        "for value, keys in value_map.items():\n",
        "    print(f\"Keys associated with value {value}: {keys}\")"
      ],
      "metadata": {
        "colab": {
          "base_uri": "https://localhost:8080/"
        },
        "id": "mh3UWHgKIN_O",
        "outputId": "0fcb48d4-dbd9-4a46-955e-7d1f7702195f"
      },
      "execution_count": null,
      "outputs": [
        {
          "output_type": "stream",
          "name": "stdout",
          "text": [
            "Keys associated with value 5: [1, 8, 10, 15, 23, 35, 36, 45, 59, 61, 62, 66, 68, 72, 73, 74, 75, 76, 90, 91, 96, 97]\n",
            "Keys associated with value 4: [2, 11, 18, 20, 22, 26, 27, 28, 40, 42, 48, 50, 53, 56, 65, 86, 87, 89, 95, 98, 99]\n",
            "Keys associated with value 1: [3, 5, 7, 12, 13, 14, 16, 19, 21, 29, 37, 44, 46, 54, 57, 93]\n",
            "Keys associated with value 2: [4, 6, 9, 24, 25, 30, 34, 41, 43, 49, 51, 55, 58, 60, 63, 70, 77, 78, 82, 83, 85, 88, 92, 94, 100]\n",
            "Keys associated with value 3: [17, 31, 32, 33, 38, 39, 47, 52, 64, 67, 69, 71, 79, 80, 81, 84]\n"
          ]
        }
      ]
    },
    {
      "cell_type": "code",
      "source": [
        "bank_weight = np.arange(1, 101)\n",
        "\n",
        "np.random.shuffle(bank_weight)\n",
        "\n",
        "bank_weight = np.insert(bank_weight, 0, 0)\n",
        "\n",
        "# print(bank_weight)"
      ],
      "metadata": {
        "id": "NDZvd4U_LO5D"
      },
      "execution_count": null,
      "outputs": []
    },
    {
      "cell_type": "code",
      "source": [
        "sorted_df = df.sort_values(by=['TX_TIME_DAYS', 'TX_TIME_SECONDS'])\n",
        "\n",
        "print(sorted_df.head())"
      ],
      "metadata": {
        "colab": {
          "base_uri": "https://localhost:8080/"
        },
        "id": "By1WIuR1O6H7",
        "outputId": "120009b1-7442-4d3a-8eff-37c188a92ee4"
      },
      "execution_count": null,
      "outputs": [
        {
          "output_type": "stream",
          "name": "stdout",
          "text": [
            "         TX_DATETIME  CUSTOMER_ID  TERMINAL_ID  TX_AMOUNT  TX_TIME_SECONDS  \\\n",
            "1648715   1522540831          596         3156      57.16               31   \n",
            "1648716   1522540930         4961         3412      81.51              130   \n",
            "1648717   1522541276            2         1365     146.00              476   \n",
            "1648718   1522541369         4128         8737      64.49              569   \n",
            "1648719   1522541434          927         9906      50.99              634   \n",
            "\n",
            "         TX_TIME_DAYS  TX_FRAUD  BANK_ID  \n",
            "1648715             0         0       70  \n",
            "1648716             0         0       36  \n",
            "1648717             0         0       73  \n",
            "1648718             0         0       17  \n",
            "1648719             0         0       55  \n"
          ]
        }
      ]
    },
    {
      "cell_type": "code",
      "source": [
        "df=sorted_df\n",
        "print(df.head())"
      ],
      "metadata": {
        "colab": {
          "base_uri": "https://localhost:8080/"
        },
        "id": "nIQrwHeXPYfx",
        "outputId": "d309d565-e368-44b1-929f-692372652fc1"
      },
      "execution_count": null,
      "outputs": [
        {
          "output_type": "stream",
          "name": "stdout",
          "text": [
            "         TX_DATETIME  CUSTOMER_ID  TERMINAL_ID  TX_AMOUNT  TX_TIME_SECONDS  \\\n",
            "1648715   1522540831          596         3156      57.16               31   \n",
            "1648716   1522540930         4961         3412      81.51              130   \n",
            "1648717   1522541276            2         1365     146.00              476   \n",
            "1648718   1522541369         4128         8737      64.49              569   \n",
            "1648719   1522541434          927         9906      50.99              634   \n",
            "\n",
            "         TX_TIME_DAYS  TX_FRAUD  BANK_ID  \n",
            "1648715             0         0       70  \n",
            "1648716             0         0       36  \n",
            "1648717             0         0       73  \n",
            "1648718             0         0       17  \n",
            "1648719             0         0       55  \n"
          ]
        }
      ]
    },
    {
      "cell_type": "code",
      "source": [
        "from sklearn.neural_network import MLPClassifier\n",
        "from sklearn.metrics import accuracy_score\n",
        "from sklearn.model_selection import train_test_split\n",
        "import numpy as np\n",
        "import pandas as pd\n",
        "\n",
        "split_index = int(0.5 * len(df))\n",
        "\n",
        "train_df = df.iloc[:split_index]\n",
        "test_df = df.iloc[split_index:]\n",
        "\n",
        "print(\"Train set length:\", len(train_df))\n",
        "print(\"Test set length:\", len(test_df))\n"
      ],
      "metadata": {
        "id": "1NtO6tgoXiqq",
        "colab": {
          "base_uri": "https://localhost:8080/"
        },
        "outputId": "4d438616-090b-4dd7-ea29-60bf010ab106"
      },
      "execution_count": null,
      "outputs": [
        {
          "output_type": "stream",
          "name": "stdout",
          "text": [
            "Train set length: 2783158\n",
            "Test set length: 695790\n"
          ]
        }
      ]
    },
    {
      "cell_type": "code",
      "source": [
        "total_length = len(train_df)\n",
        "\n",
        "split_index = int(total_length * 0.5)\n",
        "\n",
        "train_part1 = train_df.iloc[:split_index]\n",
        "train_part2 = train_df.iloc[split_index:]\n",
        "\n",
        "# print(\"Length of train_part1:\", len(train_part1))\n",
        "# print(\"Length of train_part2:\", len(train_part2))"
      ],
      "metadata": {
        "id": "okOaRv9JP5qP"
      },
      "execution_count": null,
      "outputs": []
    },
    {
      "cell_type": "code",
      "source": [
        "import pandas as pd\n",
        "from sklearn.neural_network import MLPClassifier\n",
        "from sklearn.preprocessing import StandardScaler\n",
        "from sklearn.metrics import accuracy_score\n",
        "\n",
        "# Assuming the target column is named 'target', adjust as necessary\n",
        "X_train = train_part1.drop(columns=['TX_FRAUD'])\n",
        "y_train = train_part1['TX_FRAUD']\n",
        "\n",
        "# X_test = test_df.drop(columns=['TX_FRAUD'])\n",
        "# y_test = test_df['TX_FRAUD']\n",
        "\n",
        "# Initialize MLP classifier\n",
        "mlp = MLPClassifier(hidden_layer_sizes=(64, 32), max_iter=100, alpha=0.0001,\n",
        "                    solver='adam', verbose=10, random_state=42, tol=0.0001)\n",
        "\n",
        "# Train the model\n",
        "mlp.fit(X_train, y_train)\n"
      ],
      "metadata": {
        "id": "igSIDE73WU72"
      },
      "execution_count": null,
      "outputs": []
    },
    {
      "cell_type": "code",
      "source": [
        "global_weights = mlp.coefs_.copy()\n",
        "global_biases = mlp.intercepts_.copy()\n",
        "# print(global_weights)\n",
        "# print(global_biases)"
      ],
      "metadata": {
        "id": "qgbwxozCYafp"
      },
      "execution_count": null,
      "outputs": []
    },
    {
      "cell_type": "code",
      "source": [
        "print((global_biases))"
      ],
      "metadata": {
        "colab": {
          "base_uri": "https://localhost:8080/"
        },
        "id": "vzV39iunavSf",
        "outputId": "4c96c24a-90d0-4602-e222-351a90809497"
      },
      "execution_count": null,
      "outputs": [
        {
          "output_type": "stream",
          "name": "stdout",
          "text": [
            "[array([-0.08940649, -0.28080925,  0.13595327, -0.02264303, -0.04405747,\n",
            "        0.23617645, -0.22605052, -0.01502513, -0.32896962, -0.05448872,\n",
            "       -0.25796612, -0.24220655, -0.26341718,  0.08674903,  0.12594209,\n",
            "        0.0377959 ,  0.24650901, -0.08892558, -0.1245874 ,  0.18755753,\n",
            "       -0.18580336,  0.25765468, -0.28363432,  0.25236951, -0.28099215,\n",
            "        0.06149376,  0.01610526,  0.2783105 , -0.30152491,  0.00041008,\n",
            "        0.23050787,  0.01342579,  0.07523257,  0.06751329, -0.04236838,\n",
            "       -0.10515682,  0.04670173,  0.20403252, -0.34153931, -0.12734842,\n",
            "        0.26186119,  0.22019133, -0.02578125,  0.01964728, -0.129431  ,\n",
            "       -0.19413003, -0.02110582, -0.0973768 ,  0.02076798, -0.25387852,\n",
            "        0.25766985,  0.26216921,  0.07907626, -0.08380693, -0.11591356,\n",
            "        0.16838349,  0.10740283, -0.22243487,  0.21861425,  0.16179915,\n",
            "        0.23865265,  0.1027339 ,  0.00701378, -0.07650815]), array([ 0.13999951,  0.01725745, -0.23136054, -0.23711084, -0.04856336,\n",
            "       -0.15252292, -0.16341252, -0.10541643,  0.14536322,  0.19896304,\n",
            "       -0.06157218,  0.173993  , -0.08430482, -0.01178151, -0.1369855 ,\n",
            "        0.07136148,  0.22388587,  0.04622636, -0.07109296,  0.05090612,\n",
            "       -0.18853966,  0.1761074 ,  0.00138255, -0.02074888,  0.0250224 ,\n",
            "        0.04706086, -0.23489195,  0.09078868, -0.14224927,  0.09903497,\n",
            "        0.13987414,  0.1401761 ]), array([-0.1128426])]\n"
          ]
        }
      ]
    },
    {
      "cell_type": "code",
      "source": [
        "local_weights=[]\n",
        "local_biases=[]\n",
        "local_edge_weight=[]\n",
        "for _ in range(6):\n",
        "    local_weights.append(global_weights)\n",
        "for _ in range(6):\n",
        "    local_biases.append(global_biases)\n",
        "for _ in range(6):\n",
        "    local_edge_weight.append(0)"
      ],
      "metadata": {
        "id": "Gu_VY3_7YH1X"
      },
      "execution_count": null,
      "outputs": []
    },
    {
      "cell_type": "code",
      "source": [
        "bank_weights=[]\n",
        "bank_biases=[]\n",
        "bank_edge_weight=[]\n",
        "for i in range(101):\n",
        "    bank_weights.append(global_weights)\n",
        "for _ in range(101):\n",
        "    bank_biases.append(global_biases)\n",
        "for _ in range(101):\n",
        "    bank_edge_weight.append(0)"
      ],
      "metadata": {
        "id": "LYN0DP70K95X"
      },
      "execution_count": null,
      "outputs": []
    },
    {
      "cell_type": "code",
      "source": [
        "def get_local_weights():\n",
        "    return local_weights\n",
        "def get_local_biases():\n",
        "    return local_biases\n",
        "def get_local_edge_weight():\n",
        "    return local_edge_weight"
      ],
      "metadata": {
        "id": "Ab8mHJb3elya"
      },
      "execution_count": null,
      "outputs": []
    },
    {
      "cell_type": "code",
      "source": [
        "def extract_global_weights():\n",
        "  return global_weights\n",
        "def extract_global_biases():\n",
        "  return global_biases"
      ],
      "metadata": {
        "id": "jQOQ5qcffQtV"
      },
      "execution_count": null,
      "outputs": []
    },
    {
      "cell_type": "code",
      "source": [
        "print((global_biases))"
      ],
      "metadata": {
        "colab": {
          "base_uri": "https://localhost:8080/"
        },
        "id": "1mHT-_6FLi6u",
        "outputId": "362f4318-0e7e-4c44-873c-dded8586d7c5"
      },
      "execution_count": null,
      "outputs": [
        {
          "output_type": "stream",
          "name": "stdout",
          "text": [
            "[array([-0.08940649, -0.28080925,  0.13595327, -0.02264303, -0.04405747,\n",
            "        0.23617645, -0.22605052, -0.01502513, -0.32896962, -0.05448872,\n",
            "       -0.25796612, -0.24220655, -0.26341718,  0.08674903,  0.12594209,\n",
            "        0.0377959 ,  0.24650901, -0.08892558, -0.1245874 ,  0.18755753,\n",
            "       -0.18580336,  0.25765468, -0.28363432,  0.25236951, -0.28099215,\n",
            "        0.06149376,  0.01610526,  0.2783105 , -0.30152491,  0.00041008,\n",
            "        0.23050787,  0.01342579,  0.07523257,  0.06751329, -0.04236838,\n",
            "       -0.10515682,  0.04670173,  0.20403252, -0.34153931, -0.12734842,\n",
            "        0.26186119,  0.22019133, -0.02578125,  0.01964728, -0.129431  ,\n",
            "       -0.19413003, -0.02110582, -0.0973768 ,  0.02076798, -0.25387852,\n",
            "        0.25766985,  0.26216921,  0.07907626, -0.08380693, -0.11591356,\n",
            "        0.16838349,  0.10740283, -0.22243487,  0.21861425,  0.16179915,\n",
            "        0.23865265,  0.1027339 ,  0.00701378, -0.07650815]), array([ 0.13999951,  0.01725745, -0.23136054, -0.23711084, -0.04856336,\n",
            "       -0.15252292, -0.16341252, -0.10541643,  0.14536322,  0.19896304,\n",
            "       -0.06157218,  0.173993  , -0.08430482, -0.01178151, -0.1369855 ,\n",
            "        0.07136148,  0.22388587,  0.04622636, -0.07109296,  0.05090612,\n",
            "       -0.18853966,  0.1761074 ,  0.00138255, -0.02074888,  0.0250224 ,\n",
            "        0.04706086, -0.23489195,  0.09078868, -0.14224927,  0.09903497,\n",
            "        0.13987414,  0.1401761 ]), array([-0.1128426])]\n"
          ]
        }
      ]
    },
    {
      "cell_type": "code",
      "source": [
        "def distribute_global_weights_biases():\n",
        "  for i in range(1,6):\n",
        "    local_weights[i]=global_weights.copy()\n",
        "    local_biases[i]=global_biases.copy()\n",
        "    local_edge_weight[i]=1\n",
        "distribute_global_weights_biases()"
      ],
      "metadata": {
        "id": "ekTmOWKwbGwc"
      },
      "execution_count": null,
      "outputs": []
    },
    {
      "cell_type": "code",
      "source": [
        "def distribute_local_weights_biases():\n",
        "  for i in range(1,6):\n",
        "    for bank in value_map[i]:\n",
        "      bank_weights[bank]=local_weights[i].copy()\n",
        "      bank_biases[bank]=local_biases[i].copy()\n",
        "      bank_edge_weight[bank]=1\n",
        "distribute_local_weights_biases()"
      ],
      "metadata": {
        "id": "rgVSxSoOqlTb"
      },
      "execution_count": null,
      "outputs": []
    },
    {
      "cell_type": "code",
      "source": [
        "# print((local_biases))"
      ],
      "metadata": {
        "id": "4dP3Mg2YLqBs"
      },
      "execution_count": null,
      "outputs": []
    },
    {
      "cell_type": "code",
      "source": [
        "def update_global_weights_biases():\n",
        "  global_weights_temp=[0]*3\n",
        "  global_biases_temp=[0]*3\n",
        "  for idx in range(3):\n",
        "    global_weights_temp[idx] = np.zeros_like(global_weights[idx])\n",
        "    global_biases_temp[idx] = np.zeros_like(global_biases[idx])\n",
        "  tot_weight=0\n",
        "\n",
        "  for i in range(1,6):\n",
        "    for idx in range(3):\n",
        "      global_weights_temp[idx]+=local_weights[i][idx]*local_edge_weight[i]\n",
        "      global_biases_temp[idx]+=local_biases[i][idx]*local_edge_weight[i]\n",
        "    tot_weight+=local_edge_weight[i]\n",
        "  for idx in range(3):\n",
        "    global_weights_temp[idx]=global_weights_temp[idx]/tot_weight\n",
        "    global_biases_temp[idx]=global_biases_temp[idx]/tot_weight\n",
        "  for idx in range(3):\n",
        "    global_weights[idx]=global_weights_temp[idx].copy()\n",
        "    global_biases[idx]=global_biases_temp[idx].copy()\n"
      ],
      "metadata": {
        "id": "uvRzzWtefqpP"
      },
      "execution_count": null,
      "outputs": []
    },
    {
      "cell_type": "code",
      "source": [
        "update_global_weights_biases()"
      ],
      "metadata": {
        "id": "WruV-H4ceXpF"
      },
      "execution_count": null,
      "outputs": []
    },
    {
      "cell_type": "code",
      "source": [
        "def update_local_weights_biases():\n",
        "  for i in range(1,6):\n",
        "    bank_weights_temp=[0]*3\n",
        "    bank_biases_temp=[0]*3\n",
        "    for idx in range(3):\n",
        "      bank_weights_temp[idx]=np.zeros_like(global_weights[idx])\n",
        "      bank_biases_temp[idx]=np.zeros_like(global_biases[idx])\n",
        "\n",
        "    total_weight=0\n",
        "    for bank in value_map[i]:\n",
        "      for idx in range(3):\n",
        "        bank_weights_temp[idx]+=bank_weights[bank][idx]*bank_edge_weight[bank]\n",
        "        bank_biases_temp[idx]+=bank_biases[bank][idx]*bank_edge_weight[bank]\n",
        "      total_weight+=bank_edge_weight[bank]\n",
        "    for idx in range(3):\n",
        "      bank_weights_temp[idx]=bank_weights_temp[idx]/total_weight\n",
        "      bank_biases_temp[idx]=bank_biases_temp[idx]/total_weight\n",
        "    for idx in range(3):\n",
        "      local_weights[i][idx] = bank_weights_temp[idx]\n",
        "      local_biases[i][idx] = bank_biases_temp[idx]\n",
        "    local_edge_weight[i]=total_weight\n"
      ],
      "metadata": {
        "id": "KWZqcX0FMSIX"
      },
      "execution_count": null,
      "outputs": []
    },
    {
      "cell_type": "code",
      "source": [
        "update_local_weights_biases()"
      ],
      "metadata": {
        "id": "vEzo8m0zOEue"
      },
      "execution_count": null,
      "outputs": []
    },
    {
      "cell_type": "code",
      "source": [
        "dfs_by_day = {}\n",
        "for day in train_part2['TX_TIME_DAYS'].unique():\n",
        "    df_day = train_part2[train_part2['TX_TIME_DAYS'] == day].copy()\n",
        "    dfs_by_day[day] = df_day"
      ],
      "metadata": {
        "id": "_PXOovgIrDuU"
      },
      "execution_count": null,
      "outputs": []
    },
    {
      "cell_type": "code",
      "source": [
        "import tensorflow as tf\n"
      ],
      "metadata": {
        "id": "PoKqyPfWTjQZ"
      },
      "execution_count": null,
      "outputs": []
    },
    {
      "cell_type": "code",
      "source": [
        "count=0\n",
        "for day in train_part2['TX_TIME_DAYS'].unique():\n",
        "  # print(day)\n",
        "  distribute_global_weights_biases()\n",
        "  df_day = dfs_by_day[day]\n",
        "  divided_dfs = np.array_split(df_day, 10)\n",
        "  for i in range(10):\n",
        "    # print(i)\n",
        "    distribute_local_weights_biases()\n",
        "    df_local = divided_dfs[i]\n",
        "\n",
        "    grouped = df_local.groupby('BANK_ID')\n",
        "    df_local_banks={}\n",
        "    for bank_id, group_df in grouped:\n",
        "      # print(bank_id)\n",
        "      df_local_banks[bank_id] = group_df\n",
        "\n",
        "      tf_model = tf.keras.Sequential([\n",
        "          tf.keras.layers.Dense(64, activation='relu', input_shape=(7,)),  # First hidden layer with 64 units\n",
        "          tf.keras.layers.Dense(32, activation='relu'),  # Second hidden layer with 32 units\n",
        "          tf.keras.layers.Dense(1, activation='softmax')  # Output layer\n",
        "      ])\n",
        "      tf_model.layers[0].set_weights([bank_weights[bank_id][0], bank_biases[bank_id][0]])\n",
        "      tf_model.layers[1].set_weights([bank_weights[bank_id][1], bank_biases[bank_id][1]])\n",
        "      tf_model.layers[2].set_weights([bank_weights[bank_id][2], bank_biases[bank_id][2]])\n",
        "\n",
        "      X_train_local = group_df.drop(columns=['TX_FRAUD'])\n",
        "      y_train_local = group_df['TX_FRAUD']\n",
        "\n",
        "      tf_model.compile(optimizer='adam', loss='binary_crossentropy', metrics=['accuracy'])\n",
        "      history = tf_model.fit(X_train_local, y_train_local, epochs=5, batch_size=32, validation_split=0.2, verbose=0)\n",
        "      weights_tf = []\n",
        "      biases_tf = []\n",
        "      idx=0\n",
        "      for layer in tf_model.layers:\n",
        "        layer_weights, layer_biases = layer.get_weights()\n",
        "        bank_weights[bank_id][idx]=layer_weights\n",
        "        bank_biases[bank_id][idx]=layer_biases\n",
        "        idx+=1\n",
        "      bank_edge_weight[bank_id]=len(group_df)*bank_weight[bank_id]\n",
        "    update_local_weights_biases()\n",
        "  update_global_weights_biases()\n",
        "# print(count)"
      ],
      "metadata": {
        "id": "7lWhmP00yD-K"
      },
      "execution_count": null,
      "outputs": []
    },
    {
      "cell_type": "code",
      "source": [
        "print(global_weights)\n",
        "print(global_biases)"
      ],
      "metadata": {
        "colab": {
          "base_uri": "https://localhost:8080/"
        },
        "id": "FKgZcj53RSk6",
        "outputId": "cc7fab28-6fc0-4e9a-ffa5-3b0afe067b5d"
      },
      "execution_count": null,
      "outputs": [
        {
          "output_type": "stream",
          "name": "stdout",
          "text": [
            "[array([[-1.75853598e-002,  2.20682278e-001,  1.08476533e-001,\n",
            "         7.62093899e-004,  8.58233344e-293, -2.72280632e-002,\n",
            "         9.26432293e-283,  2.00537961e-001, -2.79586021e-003,\n",
            "         8.10172138e-002,  1.17789758e-277,  2.52175646e-001,\n",
            "         1.48755286e-001, -2.53930594e-002, -1.42806414e-002,\n",
            "        -7.83316591e-003, -2.20291499e-002, -2.83478175e-003,\n",
            "         0.00000000e+000, -2.41886356e-002,  3.68521050e-002,\n",
            "        -8.79491107e-003,  3.54727087e-309, -2.08222566e-002,\n",
            "        -1.59188303e-002, -1.07702306e-004, -1.06610088e-002,\n",
            "        -3.17504710e-005, -3.36191754e-006, -3.13400554e-002,\n",
            "         8.22237007e-003, -2.72063566e-002, -7.28363076e-004,\n",
            "         2.11398325e-001,  2.52404752e-001, -6.65729210e-007,\n",
            "        -1.60571599e-003, -2.63000356e-002,  2.70133196e-002,\n",
            "         0.00000000e+000, -2.83282391e-002, -2.49723769e-002,\n",
            "        -2.30957032e-279,  1.86384076e-001, -4.92034658e-305,\n",
            "         8.03045471e-002, -1.28141408e-311, -1.36050415e-003,\n",
            "        -1.71907713e-003, -5.74790844e-003,  2.53842248e-001,\n",
            "         1.38112753e-001,  2.16707411e-001,  6.97004569e-002,\n",
            "         5.11011846e-002,  2.30168971e-001, -1.25756601e-002,\n",
            "        -2.36932684e-002, -2.01991123e-002, -2.36099619e-002,\n",
            "        -2.21014399e-002, -2.58107469e-002,  1.25904567e-001,\n",
            "        -2.72146319e-002],\n",
            "       [-2.01192422e-002, -1.11726576e-001, -3.27090669e-001,\n",
            "         1.93453877e-001, -2.33562461e-283,  4.58796439e-246,\n",
            "         1.00278777e-301, -9.57064727e-002, -4.29626269e-001,\n",
            "         5.09741449e-002, -2.50492987e-309,  2.09352533e-001,\n",
            "         2.18934242e-002, -2.86801263e-279, -1.58394243e-002,\n",
            "        -9.22042852e-003, -2.07088384e-002,  1.02663787e-001,\n",
            "         2.85270968e-314, -2.45383306e-002, -2.28714241e-001,\n",
            "        -1.18751044e-002,  7.27326732e-307, -2.02034938e-002,\n",
            "         6.09381475e-002, -1.49287458e-001,  6.66790664e-284,\n",
            "         1.19949747e-001,  5.10826829e-002, -3.06321883e-002,\n",
            "         1.88253698e-001, -8.26358848e-294,  3.61731656e-292,\n",
            "        -1.85345664e-001, -2.01759790e-001, -3.68702717e-001,\n",
            "        -1.97585623e-003, -2.85343149e-002, -9.08275904e-002,\n",
            "         0.00000000e+000, -5.36856195e-277, -4.77664374e-019,\n",
            "        -3.45845952e-323,  1.97051905e-001, -1.74819985e-301,\n",
            "        -1.66596161e-001,  1.88697433e-309, -2.42100179e-001,\n",
            "         2.24168314e-001, -3.54094228e-003,  1.53679843e-001,\n",
            "         9.96694353e-002,  4.17937224e-002, -4.08840680e-001,\n",
            "         3.14884845e-001, -8.51128123e-002,  1.66546940e-286,\n",
            "        -2.52690776e-002, -1.87404613e-002, -2.37353092e-002,\n",
            "        -2.21033642e-002, -2.62858207e-002,  2.06553658e-001,\n",
            "        -2.52536652e-002],\n",
            "       [-6.54257482e-002, -2.64052353e-001, -2.95212069e-001,\n",
            "        -3.48191401e-002,  1.34823472e-288, -6.82459491e-199,\n",
            "         4.23670814e-282,  1.06063419e-001, -2.44982934e-001,\n",
            "        -1.44654326e-001,  6.56270856e-318,  4.86434706e-001,\n",
            "         4.14914539e-003,  2.57069529e-293, -1.46002336e-002,\n",
            "        -9.19894516e-003, -2.18964085e-002, -1.61911587e-001,\n",
            "         4.01675370e-321, -2.41956826e-002, -5.07454259e-001,\n",
            "        -9.53426661e-003,  2.57401229e-285, -2.14663931e-002,\n",
            "        -7.96373924e-002, -7.48781476e-002,  1.82727438e-274,\n",
            "        -1.45365471e-001, -7.79109276e-002, -3.09848003e-002,\n",
            "        -1.93952754e-003,  3.55946483e-290,  2.31550502e-289,\n",
            "        -1.98104589e-001,  2.81916743e-001, -4.81840737e-002,\n",
            "        -7.58747394e-004, -2.84275277e-002,  4.75701589e-002,\n",
            "        -2.16727697e-296, -7.88639075e-269, -6.83988244e-014,\n",
            "         6.32187095e-313, -9.29255541e-002,  0.00000000e+000,\n",
            "         5.16225938e-002,  2.67696427e-317, -2.89072848e-001,\n",
            "         9.08924821e-002, -5.15737065e-003,  4.63527667e-001,\n",
            "        -4.59597387e-001, -3.61790830e-001, -5.49900403e-001,\n",
            "         4.63553725e-001, -1.93587860e-002, -4.41040528e-290,\n",
            "        -2.38479391e-002, -2.02980915e-002, -2.36048195e-002,\n",
            "        -2.20926615e-002, -2.57062044e-002, -9.18772346e-002,\n",
            "        -2.61554953e-002],\n",
            "       [ 7.94896882e-003,  4.60444476e+000,  4.27536366e+000,\n",
            "        -3.84694813e+000,  5.40414177e-307, -5.41732137e-282,\n",
            "         1.38439587e-287, -4.21910116e+000,  4.03850075e+000,\n",
            "         4.15522248e+000,  1.66495059e-293, -4.41734262e+000,\n",
            "         4.39824641e+000, -7.34616750e-275,  1.35418385e-002,\n",
            "         2.86088192e-002, -1.21615284e-002, -2.67504946e+000,\n",
            "        -0.00000000e+000, -2.49569381e-002,  4.40081317e+000,\n",
            "        -3.80191180e-002,  7.70167428e-309, -2.90365602e-002,\n",
            "        -6.49182217e-003, -1.72517424e+000, -3.51356222e-299,\n",
            "        -2.73080074e-002,  2.47174644e+000, -1.00974632e-002,\n",
            "        -4.28760242e+000,  5.74312397e-295,  4.27471433e-291,\n",
            "         4.29932300e+000, -4.14040167e+000, -2.20976780e+000,\n",
            "        -3.31002704e-002, -2.86471096e-002, -4.49407962e+000,\n",
            "         0.00000000e+000,  1.40974828e-294,  3.19981838e-217,\n",
            "         1.22289355e-297, -4.67219737e+000,  7.52984194e-308,\n",
            "        -4.74184773e+000,  1.29014423e-317,  1.48663391e+000,\n",
            "         7.39031277e-002, -2.60224081e-002, -4.31228135e+000,\n",
            "         4.42145342e+000,  4.28364736e+000,  3.59544886e+000,\n",
            "        -4.45221279e+000,  4.69561668e+000,  4.70996697e-277,\n",
            "        -2.51890631e-002, -3.01601081e-002, -2.35007700e-002,\n",
            "        -2.11423184e-002, -3.19842056e-002, -4.35344634e+000,\n",
            "        -3.79181767e-002],\n",
            "       [ 1.61445927e-002,  7.33893253e-002,  1.50691742e-002,\n",
            "        -2.89990149e-001, -2.14523303e-320, -1.74318172e-002,\n",
            "         1.03954632e-290, -2.04271602e-003,  1.58285453e-001,\n",
            "         1.00798269e-001, -9.01873380e-311,  9.64492978e-002,\n",
            "        -1.25502660e-001, -6.16732227e-033, -1.41426210e-002,\n",
            "        -4.55109341e-003, -2.07253134e-002,  2.24877001e-001,\n",
            "         0.00000000e+000, -2.41886551e-002,  1.45874665e-001,\n",
            "        -7.17941616e-003,  6.28169400e-310, -2.04682757e-002,\n",
            "         6.25757635e-002, -2.56381395e-001,  1.02564418e-146,\n",
            "        -2.46449033e-001, -8.88123824e-003, -3.13396527e-002,\n",
            "        -7.40667017e-002, -9.49299920e-009,  2.36411369e-223,\n",
            "         4.07789358e-003, -2.91549377e-001, -4.42277389e-001,\n",
            "         1.71872104e-004, -2.63081073e-002, -2.96618774e-001,\n",
            "         0.00000000e+000, -1.25033352e-006, -1.82994637e-003,\n",
            "         1.87784471e-319, -2.92656647e-001, -6.76645420e-281,\n",
            "         3.71139268e-003,  0.00000000e+000,  6.56130972e-002,\n",
            "         1.03944432e-001, -1.82078778e-003, -9.98076586e-003,\n",
            "        -1.24157278e-001,  1.33477320e-001, -2.92868818e-001,\n",
            "        -4.16811193e-002, -2.59650794e-001,  1.62355467e-258,\n",
            "        -2.35963070e-002, -2.17082051e-002, -2.36093936e-002,\n",
            "        -2.20965199e-002, -2.61686633e-002, -2.64681875e-001,\n",
            "        -2.16665369e-002],\n",
            "       [-1.67026536e-002,  8.39024722e-002,  6.72019787e-002,\n",
            "        -1.83481948e-001, -1.90409718e-280,  3.64629919e-297,\n",
            "         0.00000000e+000,  5.25310947e-002, -1.08115478e-001,\n",
            "        -1.86127505e-001, -5.36549214e-317,  1.28930956e-001,\n",
            "        -3.26411520e-001, -3.58545120e-285, -1.68740028e-002,\n",
            "        -7.06735081e-003, -2.06912137e-002,  1.03209681e-001,\n",
            "         0.00000000e+000, -2.48233232e-002, -3.26986723e-002,\n",
            "        -9.82774358e-003,  8.20726077e-295, -2.20552186e-002,\n",
            "        -1.48855571e-002, -9.46922091e-002,  1.15844772e-299,\n",
            "        -2.74564956e-001, -1.27452681e-001, -1.03132410e-002,\n",
            "        -5.19817163e-002,  6.79469227e-285, -2.32652713e-291,\n",
            "        -2.44978000e-001, -2.67974008e-001, -9.02999710e-002,\n",
            "        -1.79026841e-003, -2.87486598e-002,  1.76460691e-001,\n",
            "        -0.00000000e+000,  9.19691500e-295,  5.27089290e-317,\n",
            "         0.00000000e+000, -2.47478374e-002, -2.55446995e-282,\n",
            "        -8.04562562e-002, -1.06662212e-279,  2.21246973e-001,\n",
            "        -2.03926282e-001, -3.95046829e-003, -2.51278131e-001,\n",
            "        -3.01610979e-001, -2.74220416e-001, -5.34364294e-002,\n",
            "        -2.55232794e-001, -1.20089466e-001,  6.13817774e-287,\n",
            "        -2.52094408e-002, -2.16027519e-002, -2.30219292e-002,\n",
            "        -2.17036095e-002, -2.85311244e-002,  1.03010084e-002,\n",
            "        -2.38057389e-002],\n",
            "       [-1.31523376e-002,  1.39138220e-001, -1.49201154e-001,\n",
            "        -2.48780267e-001, -1.81263054e-304,  8.02124282e-293,\n",
            "         1.54491399e-276, -6.72377132e-002, -1.31619889e-001,\n",
            "         1.24794201e-001,  3.90184736e-315,  2.25492593e-001,\n",
            "         1.67929924e-001, -1.34516927e-300, -1.73898100e-002,\n",
            "        -1.10578909e-002, -2.16970343e-002,  2.11056542e-001,\n",
            "         0.00000000e+000, -2.43414980e-002, -1.28722440e-001,\n",
            "        -1.25966474e-002, -1.13635099e-320, -3.88719140e-002,\n",
            "         2.97726768e-002, -4.11210495e-001,  7.84079176e-299,\n",
            "         2.52163734e-001,  2.14392745e-001, -1.01960797e-002,\n",
            "         1.81376585e-002, -1.93908033e-295, -9.82220433e-293,\n",
            "        -1.45125429e-001,  7.79282630e-002, -3.93650303e-002,\n",
            "        -1.13473134e-003, -2.86666446e-002, -3.21438225e-001,\n",
            "         0.00000000e+000, -5.81109967e-278,  6.22742997e-213,\n",
            "         0.00000000e+000,  1.69832543e-001,  2.39230252e-316,\n",
            "        -2.40833192e-001,  3.92728077e-291,  1.44679607e-001,\n",
            "         3.93215680e-002, -9.67339716e-003, -2.64949664e-001,\n",
            "         9.90078335e-002, -2.83164043e-001,  3.26465844e-002,\n",
            "         1.10079441e-001, -2.54447040e-001,  1.63288121e-279,\n",
            "        -2.52530645e-002, -2.00345703e-002, -2.31376518e-002,\n",
            "        -2.13492717e-002, -2.76047239e-002,  2.13196644e-001,\n",
            "        -2.72037251e-002]]), array([[ 5.04989382e-290, -6.08573090e-003, -6.04496387e-288, ...,\n",
            "         1.08694442e-322,  5.18894491e-306, -1.68831798e-002],\n",
            "       [-4.87586430e-003, -1.58114017e-001, -1.68940774e-002, ...,\n",
            "        -5.50915620e-003, -2.13702065e-002,  2.06646876e-001],\n",
            "       [-4.94737452e-003,  1.24455255e-001, -6.46168238e-003, ...,\n",
            "        -5.53764048e-003, -2.13534738e-002, -9.10666069e-002],\n",
            "       ...,\n",
            "       [-1.97626258e-323,  2.19781235e-002, -6.42285340e-323, ...,\n",
            "         3.26083326e-322,  0.00000000e+000,  2.06974614e-002],\n",
            "       [-4.82051582e-003,  1.02199869e-001,  1.64148024e-002, ...,\n",
            "        -5.44193854e-003, -2.14158705e-002,  2.23086250e-001],\n",
            "       [-3.59545525e-284,  2.75694292e-002,  2.60730165e-316, ...,\n",
            "         1.21362889e-313, -4.37295607e-291,  2.72063796e-002]]), array([[-4.83498710e-003],\n",
            "       [ 9.64444573e-006],\n",
            "       [-2.69914805e-002],\n",
            "       [-2.21499524e-002],\n",
            "       [-8.30715996e-294],\n",
            "       [ 5.20905711e-004],\n",
            "       [ 2.68503717e-002],\n",
            "       [-2.15443325e-001],\n",
            "       [-5.60465826e-003],\n",
            "       [-1.74353690e-001],\n",
            "       [ 1.74935898e-001],\n",
            "       [ 2.61795937e-002],\n",
            "       [-2.89112981e-001],\n",
            "       [ 0.00000000e+000],\n",
            "       [ 2.96488471e-260],\n",
            "       [-4.21965121e-002],\n",
            "       [ 1.38770689e-001],\n",
            "       [-1.01953305e-226],\n",
            "       [ 2.56320979e-277],\n",
            "       [ 2.17203937e-155],\n",
            "       [-9.84264544e-290],\n",
            "       [ 8.34825270e-003],\n",
            "       [-1.10895564e-001],\n",
            "       [-2.63778961e-001],\n",
            "       [ 1.26038755e-002],\n",
            "       [ 1.24120722e-002],\n",
            "       [-2.04728860e-002],\n",
            "       [-1.08665518e-001],\n",
            "       [ 1.22502783e-001],\n",
            "       [-5.61980988e-003],\n",
            "       [ 2.92225410e-002],\n",
            "       [ 2.75088471e-001]])]\n",
            "[array([-0.08940651, -0.28351891,  0.13472724, -0.02264302, -0.04405747,\n",
            "        0.23617651, -0.22605049, -0.01664428, -0.3456471 , -0.05817837,\n",
            "       -0.25796614, -0.24264966, -0.26689944,  0.086749  ,  0.12594208,\n",
            "        0.03779589,  0.24650895, -0.08998467, -0.12458735,  0.18755759,\n",
            "       -0.18888212,  0.25765467, -0.2836343 ,  0.25236949, -0.28099215,\n",
            "        0.06149373,  0.01610526,  0.27831051, -0.30152494,  0.00041008,\n",
            "        0.21854501,  0.01342579,  0.07523257,  0.06422286, -0.04474385,\n",
            "       -0.10515677,  0.04670174,  0.20403241, -0.34437856, -0.12734842,\n",
            "        0.2618612 ,  0.22019132, -0.02578125,  0.0182505 , -0.12943101,\n",
            "       -0.19551212, -0.02110581, -0.09827819,  0.01976078, -0.2538785 ,\n",
            "        0.25664032,  0.26083246,  0.07639257, -0.1387838 , -0.11655794,\n",
            "        0.16733009,  0.10740284, -0.22243477,  0.21861414,  0.16179913,\n",
            "        0.23865255,  0.10273389,  0.00071529, -0.07650816]), array([ 0.13999951,  0.01725745, -0.23136055, -0.23711087, -0.04856334,\n",
            "       -0.15252292, -0.16341252, -0.10513424,  0.14536323,  0.19896298,\n",
            "       -0.0628043 ,  0.17399301, -0.08391211, -0.01178151, -0.1369855 ,\n",
            "        0.06940187,  0.2225173 ,  0.04622634, -0.07109297,  0.05090612,\n",
            "       -0.18853963,  0.17610747,  0.00126625, -0.02039145,  0.02502239,\n",
            "        0.04706086, -0.23489206,  0.09065268, -0.14359275,  0.09903498,\n",
            "        0.13987413,  0.13913599]), array([-0.11354867])]\n"
          ]
        }
      ]
    },
    {
      "cell_type": "code",
      "source": [
        "tf_model = tf.keras.Sequential([\n",
        "          tf.keras.layers.Dense(64, activation='relu', input_shape=(7,)),  # First hidden layer with 64 units\n",
        "          tf.keras.layers.Dense(32, activation='relu'),  # Second hidden layer with 32 units\n",
        "          tf.keras.layers.Dense(1, activation='softmax')  # Output layer\n",
        "      ])\n",
        "tf_model.layers[0].set_weights([global_weights[0], global_biases[0]])\n",
        "tf_model.layers[1].set_weights([global_weights[1], global_biases[1]])\n",
        "tf_model.layers[2].set_weights([global_weights[2], global_biases[2]])\n",
        "tf_model.compile(optimizer='adam', loss='binary_crossentropy', metrics=['accuracy'])\n",
        "X_test = test_df.drop(columns=['TX_FRAUD'])\n",
        "y_test = test_df['TX_FRAUD']\n"
      ],
      "metadata": {
        "id": "Vt6u6FnK8ONF"
      },
      "execution_count": null,
      "outputs": []
    },
    {
      "cell_type": "code",
      "source": [
        "y_pred_proba = tf_model.predict(X_test)"
      ],
      "metadata": {
        "colab": {
          "base_uri": "https://localhost:8080/"
        },
        "id": "cDNpSzwgeW-r",
        "outputId": "5392f7cf-8a8b-419f-fdcd-8eaae164b4c4"
      },
      "execution_count": null,
      "outputs": [
        {
          "output_type": "stream",
          "name": "stdout",
          "text": [
            "21744/21744 [==============================] - 43s 2ms/step\n"
          ]
        }
      ]
    },
    {
      "cell_type": "code",
      "source": [
        "y_pred = (y_pred_proba > 0.5).astype(int)\n"
      ],
      "metadata": {
        "id": "GmLUVPXPeo_W"
      },
      "execution_count": null,
      "outputs": []
    },
    {
      "cell_type": "code",
      "source": [
        "from sklearn.metrics import accuracy_score, precision_score, recall_score, f1_score\n"
      ],
      "metadata": {
        "id": "9GJBTIeMe4x0"
      },
      "execution_count": null,
      "outputs": []
    },
    {
      "cell_type": "code",
      "source": [
        "from sklearn.metrics import confusion_matrix, precision_score, recall_score, f1_score\n",
        "\n",
        "# Compute the confusion matrix\n",
        "conf_matrix = confusion_matrix(y_pred,y_test)\n",
        "print(f\"Confusion Matrix:\\n{conf_matrix}\")\n",
        "\n",
        "# Compute precision, recall, and F1 score\n",
        "precision = precision_score(y_pred,y_test)\n",
        "recall = recall_score(y_pred,y_test)\n",
        "f1 = f1_score(y_pred,y_test)\n",
        "\n",
        "print(f\"Precision: {precision:.4f}\")\n",
        "print(f\"Recall: {recall:.4f}\")\n",
        "print(f\"F1 Score: {f1:.4f}\")\n",
        "\n",
        "# Evaluate global model accuracy\n",
        "global_accuracy = accuracy_score(y_pred,y_test)\n",
        "print(f\"Global Model Accuracy: {global_accuracy:.4f}\")"
      ],
      "metadata": {
        "colab": {
          "base_uri": "https://localhost:8080/"
        },
        "id": "eidSjDzYezEV",
        "outputId": "f1aaa623-b60f-4e2b-c06d-1a4bde183ad8"
      },
      "execution_count": null,
      "outputs": [
        {
          "output_type": "stream",
          "name": "stdout",
          "text": [
            "Confusion Matrix:\n",
            "[[298029  50236]\n",
            " [ 34390 313135]]\n",
            "Precision: 0.8618\n",
            "Recall: 0.9010\n",
            "F1 Score: 0.8810\n",
            "Global Model Accuracy: 0.8784\n"
          ]
        }
      ]
    },
    {
      "cell_type": "code",
      "source": [],
      "metadata": {
        "id": "TJkJstXNe1C9"
      },
      "execution_count": null,
      "outputs": []
    }
  ]
}